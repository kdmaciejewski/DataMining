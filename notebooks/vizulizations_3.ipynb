{
 "cells": [
  {
   "cell_type": "code",
   "execution_count": 1,
   "metadata": {},
   "outputs": [],
   "source": [
    "from cooking_bot.data_formats import *\n",
    "from cooking_bot.encoders import get_clip_text_embedding, get_image_embedding, get_sentence_embedding, CLIP_MODEL, SENTENCE_TRANSORMER\n",
    "from cooking_bot import REPO_PATH\n",
    "from glob import glob\n",
    "import seaborn as sns\n",
    "import numpy as np\n",
    "import matplotlib.pyplot as plt\n",
    "import pandas as pd\n",
    "from tqdm import tqdm\n",
    "import torch\n",
    "import bertviz\n",
    "from IPython.display import display\n",
    "import transformers\n",
    "from transformers import AutoTokenizer, AutoConfig, AutoModel\n",
    "import os\n",
    "from sklearn.manifold import TSNE\n",
    "from sklearn.decomposition import PCA\n",
    "os.chdir(REPO_PATH)"
   ]
  },
  {
   "cell_type": "code",
   "execution_count": 2,
   "metadata": {},
   "outputs": [
    {
     "name": "stderr",
     "output_type": "stream",
     "text": [
      "Filling Index:   0%|          | 0/994 [00:00<?, ?it/s]"
     ]
    },
    {
     "name": "stderr",
     "output_type": "stream",
     "text": [
      "Filling Index: 100%|██████████| 994/994 [00:03<00:00, 286.82it/s]\n"
     ]
    }
   ],
   "source": [
    "recipes = []\n",
    "\n",
    "for id, path in enumerate(tqdm(glob(\"jsons/*.json\"), \"Filling Index\")):\n",
    "    \n",
    "    with open(path, \"r\") as f:\n",
    "\n",
    "        data = f.read()\n",
    "    \n",
    "    recipe = Recipe.model_validate_json(data)\n",
    "    recipes.append(recipe)"
   ]
  },
  {
   "cell_type": "code",
   "execution_count": 3,
   "metadata": {},
   "outputs": [
    {
     "data": {
      "text/plain": [
       "291"
      ]
     },
     "execution_count": 3,
     "metadata": {},
     "output_type": "execute_result"
    }
   ],
   "source": [
    "many_instructions = [i for i in recipes if len(i.instructions) > 6]\n",
    "\n",
    "def number_of_images(x : Recipe):\n",
    "    \n",
    "    s = 0\n",
    "    \n",
    "    for i in x.instructions:\n",
    "        for img in i.stepImages:\n",
    "            s += img.embedding is not None\n",
    "            \n",
    "    return s\n",
    "\n",
    "\n",
    "\n",
    "\n",
    "many_instructions.sort(key=number_of_images, reverse=True)\n",
    "\n",
    "len(many_instructions)"
   ]
  },
  {
   "cell_type": "code",
   "execution_count": 4,
   "metadata": {},
   "outputs": [],
   "source": [
    "def num_images(a : List[Images]):\n",
    "    \n",
    "    return sum(i.embedding is not None for i in a)"
   ]
  },
  {
   "cell_type": "code",
   "execution_count": 5,
   "metadata": {},
   "outputs": [
    {
     "data": {
      "text/plain": [
       "(602, 0)"
      ]
     },
     "execution_count": 5,
     "metadata": {},
     "output_type": "execute_result"
    }
   ],
   "source": [
    "all_tools = [tool for recipe in recipes for tool in recipe.tools]\n",
    "tool_imags = [num_images(i.images) for i in all_tools]\n",
    "len(all_tools), sum(tool_imags)"
   ]
  },
  {
   "cell_type": "code",
   "execution_count": 6,
   "metadata": {},
   "outputs": [
    {
     "data": {
      "text/plain": [
       "(10241, 0)"
      ]
     },
     "execution_count": 6,
     "metadata": {},
     "output_type": "execute_result"
    }
   ],
   "source": [
    "all_ingredients = [ingredients for recipe in recipes for ingredients in recipe.ingredients]\n",
    "ingr_imags = [num_images(i.images) for i in all_ingredients]\n",
    "len(all_ingredients), sum(ingr_imags)"
   ]
  },
  {
   "cell_type": "code",
   "execution_count": 7,
   "metadata": {},
   "outputs": [
    {
     "data": {
      "text/plain": [
       "(5425, 802, 0.14783410138248848)"
      ]
     },
     "execution_count": 7,
     "metadata": {},
     "output_type": "execute_result"
    }
   ],
   "source": [
    "all_instructions = [instructions for recipe in recipes for instructions in recipe.instructions]\n",
    "ins_imags = [num_images(i.stepImages) for i in all_instructions]\n",
    "len(all_instructions), sum(ins_imags), sum(i for i in ins_imags)/ len(all_instructions)"
   ]
  },
  {
   "cell_type": "code",
   "execution_count": 8,
   "metadata": {},
   "outputs": [
    {
     "data": {
      "text/plain": [
       "(1, 0.14820276497695853)"
      ]
     },
     "execution_count": 8,
     "metadata": {},
     "output_type": "execute_result"
    }
   ],
   "source": [
    "max(ins_imags), 804/5425"
   ]
  },
  {
   "cell_type": "code",
   "execution_count": 9,
   "metadata": {},
   "outputs": [
    {
     "data": {
      "text/plain": [
       "(994, 997)"
      ]
     },
     "execution_count": 9,
     "metadata": {},
     "output_type": "execute_result"
    }
   ],
   "source": [
    "recipes_imags = [num_images(i.images) for i in recipes]\n",
    "len(recipes), sum(recipes_imags)"
   ]
  },
  {
   "cell_type": "code",
   "execution_count": 10,
   "metadata": {},
   "outputs": [],
   "source": [
    "with_img = [i for i in recipes if len(i.images)]\n"
   ]
  },
  {
   "cell_type": "code",
   "execution_count": 19,
   "metadata": {},
   "outputs": [
    {
     "data": {
      "text/plain": [
       "(11, 12, 'Mushroom Kale Stuffed Shells')"
      ]
     },
     "execution_count": 19,
     "metadata": {},
     "output_type": "execute_result"
    }
   ],
   "source": [
    "recipe : Recipe = many_instructions[6]\n",
    "\n",
    "\n",
    "\n",
    "number_of_images(recipe), len(recipe.instructions),recipe.displayName"
   ]
  },
  {
   "cell_type": "code",
   "execution_count": 12,
   "metadata": {},
   "outputs": [
    {
     "data": {
      "text/plain": [
       "(10, 11, 'Banana Bread')"
      ]
     },
     "execution_count": 12,
     "metadata": {},
     "output_type": "execute_result"
    }
   ],
   "source": [
    "recipe : Recipe = many_instructions[15]\n",
    "\n",
    "\n",
    "\n",
    "number_of_images(recipe), len(recipe.instructions), recipe.displayName"
   ]
  },
  {
   "cell_type": "code",
   "execution_count": 20,
   "metadata": {},
   "outputs": [
    {
     "name": "stdout",
     "output_type": "stream",
     "text": [
      "[1, 2, 3, 4, 5, 6, 7, 9, 10, 11, 12]\n"
     ]
    }
   ],
   "source": [
    "ins = [i for i in recipe.instructions if i.stepImages]\n",
    "print([i.stepNumber for i in ins])\n",
    "vecs = np.array([i.stepImages[0].embedding for i in ins])\n",
    "imgs = [i.stepImages[0].get_image() for i in ins]\n",
    "\n",
    "texts = [i.stepText for i in ins]\n",
    "text_emb= np.array([get_clip_text_embedding(i) for i in texts])"
   ]
  },
  {
   "cell_type": "code",
   "execution_count": 27,
   "metadata": {},
   "outputs": [
    {
     "data": {
      "image/png": "[encoded data removed]",
      "text/plain": [
       "<Figure size 640x480 with 2 Axes>"
      ]
     },
     "metadata": {},
     "output_type": "display_data"
    }
   ],
   "source": [
    "sim = (vecs @ text_emb.T )\n",
    "\n",
    "# Create the heatmap\n",
    "sns.heatmap(sim, cmap='coolwarm', cbar=True,\n",
    "            cbar_kws={'label': 'Cosine Similarity'})  # coolwarm is a good diverging colormap\n",
    "\n",
    "# Enhancements for paper\n",
    "plt.title('CLIP Embedding Similarities')\n",
    "plt.xlabel('Instruction Description Index')  # Adjust label as needed\n",
    "plt.ylabel('Image Index')  # Adjust label as needed\n",
    "plt.tight_layout()  # Adjust layout to fit everything nicely\n",
    "\n",
    "plt.savefig(\"imgs/clip.png\", )\n",
    "plt.show()"
   ]
  },
  {
   "cell_type": "code",
   "execution_count": null,
   "metadata": {},
   "outputs": [],
   "source": []
  },
  {
   "cell_type": "code",
   "execution_count": null,
   "metadata": {},
   "outputs": [],
   "source": []
  }
 ],
 "metadata": {
  "kernelspec": {
   "display_name": "nlp",
   "language": "python",
   "name": "python3"
  },
  "language_info": {
   "codemirror_mode": {
    "name": "ipython",
    "version": 3
   },
   "file_extension": ".py",
   "mimetype": "text/x-python",
   "name": "python",
   "nbconvert_exporter": "python",
   "pygments_lexer": "ipython3",
   "version": "3.9.18"
  }
 },
 "nbformat": 4,
 "nbformat_minor": 2
}
