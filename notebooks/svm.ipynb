{
 "cells": [
  {
   "cell_type": "code",
   "execution_count": 1,
   "metadata": {},
   "outputs": [
    {
     "data": {
      "text/html": [
       "<div>\n",
       "<style scoped>\n",
       "    .dataframe tbody tr th:only-of-type {\n",
       "        vertical-align: middle;\n",
       "    }\n",
       "\n",
       "    .dataframe tbody tr th {\n",
       "        vertical-align: top;\n",
       "    }\n",
       "\n",
       "    .dataframe thead th {\n",
       "        text-align: right;\n",
       "    }\n",
       "</style>\n",
       "<table border=\"1\" class=\"dataframe\">\n",
       "  <thead>\n",
       "    <tr style=\"text-align: right;\">\n",
       "      <th></th>\n",
       "      <th>text</th>\n",
       "      <th>queries</th>\n",
       "      <th>time</th>\n",
       "      <th>difficulty</th>\n",
       "    </tr>\n",
       "  </thead>\n",
       "  <tbody>\n",
       "    <tr>\n",
       "      <th>0</th>\n",
       "      <td>How to make chicken curry?</td>\n",
       "      <td>2</td>\n",
       "      <td>0</td>\n",
       "      <td>0</td>\n",
       "    </tr>\n",
       "    <tr>\n",
       "      <th>1</th>\n",
       "      <td>Easy breakfast ideas for busy mornings</td>\n",
       "      <td>3</td>\n",
       "      <td>0</td>\n",
       "      <td>1</td>\n",
       "    </tr>\n",
       "    <tr>\n",
       "      <th>2</th>\n",
       "      <td>Find a recipe that looks visually stunning</td>\n",
       "      <td>0</td>\n",
       "      <td>0</td>\n",
       "      <td>0</td>\n",
       "    </tr>\n",
       "    <tr>\n",
       "      <th>3</th>\n",
       "      <td>How to make a traditional apple pie?</td>\n",
       "      <td>2</td>\n",
       "      <td>0</td>\n",
       "      <td>0</td>\n",
       "    </tr>\n",
       "    <tr>\n",
       "      <th>4</th>\n",
       "      <td>How to prepare a classic chicken alfredo?</td>\n",
       "      <td>2</td>\n",
       "      <td>0</td>\n",
       "      <td>0</td>\n",
       "    </tr>\n",
       "    <tr>\n",
       "      <th>...</th>\n",
       "      <td>...</td>\n",
       "      <td>...</td>\n",
       "      <td>...</td>\n",
       "      <td>...</td>\n",
       "    </tr>\n",
       "    <tr>\n",
       "      <th>804</th>\n",
       "      <td>How to make a simple vegetable stir-fry</td>\n",
       "      <td>2</td>\n",
       "      <td>0</td>\n",
       "      <td>0</td>\n",
       "    </tr>\n",
       "    <tr>\n",
       "      <th>805</th>\n",
       "      <td>I want a dessert that looks beautiful</td>\n",
       "      <td>0</td>\n",
       "      <td>0</td>\n",
       "      <td>0</td>\n",
       "    </tr>\n",
       "    <tr>\n",
       "      <th>806</th>\n",
       "      <td>Looking for a visually appealing appetizer</td>\n",
       "      <td>0</td>\n",
       "      <td>0</td>\n",
       "      <td>0</td>\n",
       "    </tr>\n",
       "    <tr>\n",
       "      <th>807</th>\n",
       "      <td>I'm looking for an easy, visually appealing snack</td>\n",
       "      <td>0</td>\n",
       "      <td>0</td>\n",
       "      <td>0</td>\n",
       "    </tr>\n",
       "    <tr>\n",
       "      <th>808</th>\n",
       "      <td>Easy recipes for chicken thighs</td>\n",
       "      <td>3</td>\n",
       "      <td>0</td>\n",
       "      <td>1</td>\n",
       "    </tr>\n",
       "  </tbody>\n",
       "</table>\n",
       "<p>809 rows × 4 columns</p>\n",
       "</div>"
      ],
      "text/plain": [
       "                                                  text  queries  time  \\\n",
       "0                           How to make chicken curry?        2     0   \n",
       "1               Easy breakfast ideas for busy mornings        3     0   \n",
       "2           Find a recipe that looks visually stunning        0     0   \n",
       "3                 How to make a traditional apple pie?        2     0   \n",
       "4            How to prepare a classic chicken alfredo?        2     0   \n",
       "..                                                 ...      ...   ...   \n",
       "804            How to make a simple vegetable stir-fry        2     0   \n",
       "805              I want a dessert that looks beautiful        0     0   \n",
       "806         Looking for a visually appealing appetizer        0     0   \n",
       "807  I'm looking for an easy, visually appealing snack        0     0   \n",
       "808                    Easy recipes for chicken thighs        3     0   \n",
       "\n",
       "     difficulty  \n",
       "0             0  \n",
       "1             1  \n",
       "2             0  \n",
       "3             0  \n",
       "4             0  \n",
       "..          ...  \n",
       "804           0  \n",
       "805           0  \n",
       "806           0  \n",
       "807           0  \n",
       "808           1  \n",
       "\n",
       "[809 rows x 4 columns]"
      ]
     },
     "execution_count": 1,
     "metadata": {},
     "output_type": "execute_result"
    }
   ],
   "source": [
    "from tqdm import tqdm\n",
    "from cooking_bot.encoders import get_sentence_embedding\n",
    "import json\n",
    "import numpy as np\n",
    "import pickle\n",
    "from sklearn.preprocessing import LabelEncoder\n",
    "from sklearn.model_selection import train_test_split\n",
    "from sklearn.metrics import accuracy_score\n",
    "from sklearn.svm import SVC\n",
    "import pandas as pd\n",
    "from cooking_bot import REPO_PATH\n",
    "import os\n",
    "os.chdir(REPO_PATH)\n",
    "\n",
    "df = pd.read_csv(\"datasets/new_clean.csv\", index_col=0)\n",
    "df"
   ]
  },
  {
   "cell_type": "code",
   "execution_count": 2,
   "metadata": {},
   "outputs": [
    {
     "name": "stderr",
     "output_type": "stream",
     "text": [
      "100%|██████████| 809/809 [00:13<00:00, 58.16it/s] \n"
     ]
    },
    {
     "name": "stdout",
     "output_type": "stream",
     "text": [
      "[0 1 2 3]\n"
     ]
    }
   ],
   "source": [
    "embeddings = np.array([get_sentence_embedding(text) for text in tqdm(df.text)])\n",
    "labels = df.queries"
   ]
  },
  {
   "cell_type": "code",
   "execution_count": 3,
   "metadata": {},
   "outputs": [
    {
     "name": "stdout",
     "output_type": "stream",
     "text": [
      "Support Vector Machine Accuracy: 0.9753086419753086\n"
     ]
    }
   ],
   "source": [
    "\n",
    "X_train, X_test, y_train, y_test = train_test_split(\n",
    "    embeddings, labels, test_size=0.2, random_state=42\n",
    ")\n",
    "# Initialize additional classifiers\n",
    "svm_classifier = SVC()\n",
    "\n",
    "# Train additional classifiers\n",
    "svm_classifier.fit(X_train, y_train)\n",
    "\n",
    "# Predict using Gradient Boosting\n",
    "\n",
    "# Predict using SVM\n",
    "svm_predictions = svm_classifier.predict(X_test)\n",
    "svm_accuracy = accuracy_score(y_test, svm_predictions)\n",
    "print(f\"Support Vector Machine Accuracy: {svm_accuracy}\")"
   ]
  },
  {
   "cell_type": "code",
   "execution_count": 19,
   "metadata": {},
   "outputs": [],
   "source": [
    "from transformers import AutoTokenizer, AutoModelForSequenceClassification, AutoConfig\n",
    "\n",
    "tokenizer = AutoTokenizer.from_pretrained(\"NOVA-vision-language/task-intent-detector\")\n",
    "config = AutoConfig.from_pretrained(\"NOVA-vision-language/task-intent-detector\", output_hidden_states = True)\n",
    "model = AutoModelForSequenceClassification.from_pretrained(\"NOVA-vision-language/task-intent-detector\",config = config)"
   ]
  },
  {
   "cell_type": "code",
   "execution_count": 28,
   "metadata": {},
   "outputs": [
    {
     "data": {
      "text/plain": [
       "17"
      ]
     },
     "execution_count": 28,
     "metadata": {},
     "output_type": "execute_result"
    }
   ],
   "source": [
    "def get_length(text):\n",
    "    a = tokenizer(text, return_tensors=\"pt\")\n",
    "    return a[\"input_ids\"].shape[1]\n",
    "\n",
    "max(get_length(t) for t in df.text)"
   ]
  },
  {
   "cell_type": "code",
   "execution_count": 30,
   "metadata": {},
   "outputs": [
    {
     "data": {
      "text/plain": [
       "tensor([[-0.1147,  0.7359, -0.1286,  ..., -2.2303, -0.0357,  0.4332],\n",
       "        [-0.2638,  1.0042, -0.1725,  ..., -2.1180, -0.0436,  0.5972],\n",
       "        [-0.3286,  1.0986, -0.2611,  ..., -2.1533,  0.0052,  0.5677],\n",
       "        ...,\n",
       "        [-0.1160,  0.7341, -0.1286,  ..., -2.2326, -0.0353,  0.4339],\n",
       "        [-0.1160,  0.7341, -0.1286,  ..., -2.2326, -0.0353,  0.4339],\n",
       "        [-0.1160,  0.7341, -0.1286,  ..., -2.2326, -0.0353,  0.4339]],\n",
       "       grad_fn=<SelectBackward0>)"
      ]
     },
     "execution_count": 30,
     "metadata": {},
     "output_type": "execute_result"
    }
   ],
   "source": [
    "def get_hidden_state(text):\n",
    "\n",
    "    input = tokenizer(text, return_tensors=\"pt\", padding=\"max_length\", max_length=30)\n",
    "\n",
    "    return model(**input, ).hidden_states[-1][0]"
   ]
  }
 ],
 "metadata": {
  "kernelspec": {
   "display_name": "nlp",
   "language": "python",
   "name": "python3"
  },
  "language_info": {
   "codemirror_mode": {
    "name": "ipython",
    "version": 3
   },
   "file_extension": ".py",
   "mimetype": "text/x-python",
   "name": "python",
   "nbconvert_exporter": "python",
   "pygments_lexer": "ipython3",
   "version": "3.9.18"
  }
 },
 "nbformat": 4,
 "nbformat_minor": 2
}
